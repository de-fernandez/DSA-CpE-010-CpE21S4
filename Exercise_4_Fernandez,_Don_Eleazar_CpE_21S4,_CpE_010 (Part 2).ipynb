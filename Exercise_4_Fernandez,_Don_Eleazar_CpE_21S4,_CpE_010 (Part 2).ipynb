{
  "nbformat": 4,
  "nbformat_minor": 0,
  "metadata": {
    "colab": {
      "provenance": [],
      "authorship_tag": "ABX9TyODFXRfYMQgHjQmHazQmPXt",
      "include_colab_link": true
    },
    "kernelspec": {
      "name": "python3",
      "display_name": "Python 3"
    },
    "language_info": {
      "name": "python"
    }
  },
  "cells": [
    {
      "cell_type": "markdown",
      "metadata": {
        "id": "view-in-github",
        "colab_type": "text"
      },
      "source": [
        "<a href=\"https://colab.research.google.com/github/de-fernandez/DSA-CpE-010-CpE21S4/blob/main/Exercise_4_Fernandez%2C_Don_Eleazar_CpE_21S4%2C_CpE_010%20(Part%202).ipynb\" target=\"_parent\"><img src=\"https://colab.research.google.com/assets/colab-badge.svg\" alt=\"Open In Colab\"/></a>"
      ]
    },
    {
      "cell_type": "markdown",
      "source": [
        "> <h1> Exercise 4 </h1>"
      ],
      "metadata": {
        "id": "oVXr24AHDgzr"
      }
    },
    {
      "cell_type": "code",
      "execution_count": null,
      "metadata": {
        "colab": {
          "base_uri": "https://localhost:8080/",
          "height": 35
        },
        "id": "LteXGfSR_8ME",
        "outputId": "7af21cd7-22e0-4fac-fc10-d4e5eef9fb35"
      },
      "outputs": [
        {
          "output_type": "execute_result",
          "data": {
            "text/plain": [
              "'f'"
            ],
            "application/vnd.google.colaboratory.intrinsic+json": {
              "type": "string"
            }
          },
          "metadata": {},
          "execution_count": 1
        }
      ],
      "source": [
        "import array\n",
        "\n",
        "array.typecodes\n",
        "a = array.array('i', [1, 2, 3, 4, 5, 6])\n",
        "b = array.array('f', [1.5, 2.5, 3.5, 4.5, 5.5, 6.5])\n",
        "a.typecode\n",
        "b.typecode"
      ]
    },
    {
      "cell_type": "code",
      "source": [
        "from array import array\n",
        "a = array('i', [4, 5, 6, 7])\n",
        "a.insert(1, 2)\n",
        "array('i', [4, 2, 5, 6, 7])\n",
        "a.insert(-1, 0)\n",
        "a\n",
        "a.insert(10, -1)\n",
        "a\n",
        "array('i', [4, 2, 5, 6, 0, 7, -1])"
      ],
      "metadata": {
        "colab": {
          "base_uri": "https://localhost:8080/"
        },
        "id": "3soHS6ZfBUzs",
        "outputId": "719c5afd-f5a1-43ee-9cd1-dd9fe3b6a738"
      },
      "execution_count": null,
      "outputs": [
        {
          "output_type": "execute_result",
          "data": {
            "text/plain": [
              "array('i', [4, 2, 5, 6, 0, 7, -1])"
            ]
          },
          "metadata": {},
          "execution_count": 9
        }
      ]
    },
    {
      "cell_type": "code",
      "source": [
        "class Node:\n",
        "    def __init__(self, data):\n",
        "        self.data = data\n",
        "        self.next = None\n",
        "\n",
        "class LinkedList:\n",
        "    def __init__(self):\n",
        "        self.head = None\n",
        "\n",
        "    def printData(self):\n",
        "        temp = self.head\n",
        "        while (temp):\n",
        "          print(temp.data)\n",
        "          temp = temp.next\n",
        "\n",
        "if __name__ == '__main__':\n",
        "    llist = LinkedList()\n",
        "    llist.head = Node(1)\n",
        "    second = Node(2)\n",
        "    third = Node(3)\n",
        "\n",
        "    llist.head.next = second\n",
        "    second.next = third\n",
        "\n",
        "    print(llist.printData())"
      ],
      "metadata": {
        "colab": {
          "base_uri": "https://localhost:8080/"
        },
        "id": "8R6klSNnEqO0",
        "outputId": "4ce3717b-537a-4829-d553-dbe1fdc5dd9d"
      },
      "execution_count": null,
      "outputs": [
        {
          "output_type": "stream",
          "name": "stdout",
          "text": [
            "1\n",
            "2\n",
            "3\n",
            "None\n"
          ]
        }
      ]
    }
  ]
}
