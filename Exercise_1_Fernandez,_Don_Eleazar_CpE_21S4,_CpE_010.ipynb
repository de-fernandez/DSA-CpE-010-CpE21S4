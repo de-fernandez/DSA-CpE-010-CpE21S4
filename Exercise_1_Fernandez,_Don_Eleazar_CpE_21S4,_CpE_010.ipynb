{
  "nbformat": 4,
  "nbformat_minor": 0,
  "metadata": {
    "colab": {
      "provenance": [],
      "authorship_tag": "ABX9TyOlJSRp9Vz2lktNF9YnXyD4",
      "include_colab_link": true
    },
    "kernelspec": {
      "name": "python3",
      "display_name": "Python 3"
    },
    "language_info": {
      "name": "python"
    }
  },
  "cells": [
    {
      "cell_type": "markdown",
      "metadata": {
        "id": "view-in-github",
        "colab_type": "text"
      },
      "source": [
        "<a href=\"https://colab.research.google.com/github/de-fernandez/DSA-CpE-010-CpE21S4/blob/main/Exercise_1_Fernandez%2C_Don_Eleazar_CpE_21S4%2C_CpE_010.ipynb\" target=\"_parent\"><img src=\"https://colab.research.google.com/assets/colab-badge.svg\" alt=\"Open In Colab\"/></a>"
      ]
    },
    {
      "cell_type": "markdown",
      "source": [
        "> <h1> Exercise 1 (Class Constructor and Method) </h1>"
      ],
      "metadata": {
        "id": "AcijQ81om8SR"
      }
    },
    {
      "cell_type": "markdown",
      "source": [
        "1. Develop a Python program that computes tge area of a Rectangle shape.\n",
        "2. Use Rectangle() as a class name.\n",
        "3. Use attributes length and width.\n",
        "4. Calculate the Area() of the rectangle.\n",
        "5. Display the computed area of a rectangle."
      ],
      "metadata": {
        "id": "DTfTyvYmnVD4"
      }
    },
    {
      "cell_type": "markdown",
      "source": [
        "*Note: OOP concepts of computing the area of a rectangle."
      ],
      "metadata": {
        "id": "hhhovE_EnvrA"
      }
    },
    {
      "cell_type": "code",
      "execution_count": 22,
      "metadata": {
        "colab": {
          "base_uri": "https://localhost:8080/"
        },
        "id": "mnGT3eRamxcE",
        "outputId": "a067ad59-03c9-4969-aa4e-5429fdec153e"
      },
      "outputs": [
        {
          "output_type": "stream",
          "name": "stdout",
          "text": [
            "Enter the length: 5\n",
            "Enter the width: 2\n",
            "The area of the rectangle is 10.\n"
          ]
        }
      ],
      "source": [
        "class Rectangle():\n",
        "  def Area(length, width):\n",
        "    area = length * width\n",
        "    return area\n",
        "\n",
        "length = int(input(\"Enter the length: \"))\n",
        "width = int(input(\"Enter the width: \"))\n",
        "\n",
        "result = Rectangle.Area(length, width)\n",
        "print(f\"The area of the rectangle is {result}.\")"
      ]
    }
  ]
}