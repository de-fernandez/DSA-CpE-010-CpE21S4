{
  "nbformat": 4,
  "nbformat_minor": 0,
  "metadata": {
    "colab": {
      "provenance": [],
      "authorship_tag": "ABX9TyNI4mPKx/yJaCOvgioDTTM+",
      "include_colab_link": true
    },
    "kernelspec": {
      "name": "python3",
      "display_name": "Python 3"
    },
    "language_info": {
      "name": "python"
    }
  },
  "cells": [
    {
      "cell_type": "markdown",
      "metadata": {
        "id": "view-in-github",
        "colab_type": "text"
      },
      "source": [
        "<a href=\"https://colab.research.google.com/github/de-fernandez/DSA-CpE-010-CpE21S4/blob/main/Exercise_3_Fernandez%2C_Don_Eleazar_CpE_21S4%2C_CpE_010.ipynb\" target=\"_parent\"><img src=\"https://colab.research.google.com/assets/colab-badge.svg\" alt=\"Open In Colab\"/></a>"
      ]
    },
    {
      "cell_type": "markdown",
      "source": [
        "> <h1> Exercise 3 </h1>"
      ],
      "metadata": {
        "id": "gNRXOhqEwmKc"
      }
    },
    {
      "cell_type": "code",
      "execution_count": 56,
      "metadata": {
        "colab": {
          "base_uri": "https://localhost:8080/"
        },
        "id": "Hlb0SOUJslFl",
        "outputId": "d64b2571-f6ae-4321-803d-5eec09c4e080"
      },
      "outputs": [
        {
          "output_type": "stream",
          "name": "stdout",
          "text": [
            "The area of the circle is 78.54\n"
          ]
        }
      ],
      "source": [
        "#Algorithm to get the area of a circle if radius is known\n",
        "#Area = pi * r**2\n",
        "\n",
        "def AreaCircle(r):\n",
        "  pi = 3.1416\n",
        "  area = pi * ((r) ** 2)\n",
        "  return area\n",
        "\n",
        "print(\"The area of the circle is %.2f\" % AreaCircle(5))"
      ]
    },
    {
      "cell_type": "code",
      "source": [
        "#Algorithm to get the area of a circle if diameter is known\n",
        "#Area = pi * (d * d)/4\n",
        "#Area = pi * ((d/2) ** 2)\n",
        "\n",
        "def AreaCircle(d):\n",
        "  pi = 3.1416\n",
        "  area = pi * ((d/2) ** 2)\n",
        "  return area\n",
        "\n",
        "print(\"The area of the circle is %.2f\" % AreaCircle(10))"
      ],
      "metadata": {
        "colab": {
          "base_uri": "https://localhost:8080/"
        },
        "id": "_z4N_k9DvnDU",
        "outputId": "62ffb856-2efb-4f3a-9149-5d79729dd0ab"
      },
      "execution_count": 57,
      "outputs": [
        {
          "output_type": "stream",
          "name": "stdout",
          "text": [
            "The area of the circle is 78.54\n"
          ]
        }
      ]
    },
    {
      "cell_type": "code",
      "source": [
        "#Accessing the elements in the array\n",
        "animals = [\"cat\", \"dog\", \"fish\"]\n",
        "x = animals[0]\n",
        "print(x)"
      ],
      "metadata": {
        "colab": {
          "base_uri": "https://localhost:8080/"
        },
        "id": "G0YnLNKUxZZY",
        "outputId": "96c940a1-1d98-495b-f5c0-f242f5c29a22"
      },
      "execution_count": 20,
      "outputs": [
        {
          "output_type": "stream",
          "name": "stdout",
          "text": [
            "cat\n"
          ]
        }
      ]
    },
    {
      "cell_type": "code",
      "source": [
        "#Modifying the elements in the array\n",
        "animals = [\"cat\", \"dog\", \"fish\"]\n",
        "animals[0] = \"monkey\"\n",
        "print(animals)"
      ],
      "metadata": {
        "colab": {
          "base_uri": "https://localhost:8080/"
        },
        "id": "rwS-hUUXxsgY",
        "outputId": "c3010e2a-f79e-4865-f643-7d2b08a83e46"
      },
      "execution_count": 22,
      "outputs": [
        {
          "output_type": "stream",
          "name": "stdout",
          "text": [
            "['monkey', 'dog', 'fish']\n"
          ]
        }
      ]
    },
    {
      "cell_type": "code",
      "source": [
        "#Length of the array\n",
        "animals = [\"monkey\", \"cat\", \"dog\", \"fish\"]\n",
        "x = len(animals)\n",
        "print(x)"
      ],
      "metadata": {
        "colab": {
          "base_uri": "https://localhost:8080/"
        },
        "id": "TwqMbfztyPbv",
        "outputId": "2cee8b6e-acb8-44a2-db52-05d6177af8cc"
      },
      "execution_count": 23,
      "outputs": [
        {
          "output_type": "stream",
          "name": "stdout",
          "text": [
            "4\n"
          ]
        }
      ]
    },
    {
      "cell_type": "code",
      "source": [
        "#Looping the elements in the array\n",
        "animals = [\"monkey\", \"cat\", \"dog\", \"fish\"]\n",
        "for x in animals:\n",
        "  print(x)"
      ],
      "metadata": {
        "colab": {
          "base_uri": "https://localhost:8080/"
        },
        "id": "Xvd_6z9Jydct",
        "outputId": "89bcedd3-fe1c-4055-fe40-2efbc1e80684"
      },
      "execution_count": 24,
      "outputs": [
        {
          "output_type": "stream",
          "name": "stdout",
          "text": [
            "monkey\n",
            "cat\n",
            "dog\n",
            "fish\n"
          ]
        }
      ]
    },
    {
      "cell_type": "code",
      "source": [
        "#Adding an element in the array\n",
        "animals = [\"monkey\", \"cat\", \"dog\", \"fish\"]\n",
        "animals.append(\"bird\")\n",
        "print(animals)"
      ],
      "metadata": {
        "colab": {
          "base_uri": "https://localhost:8080/"
        },
        "id": "gvfFqv5TyrXW",
        "outputId": "67c72494-8708-4fdb-e68b-df1ef9a62d23"
      },
      "execution_count": 25,
      "outputs": [
        {
          "output_type": "stream",
          "name": "stdout",
          "text": [
            "['monkey', 'cat', 'dog', 'fish', 'bird']\n"
          ]
        }
      ]
    },
    {
      "cell_type": "code",
      "source": [
        "#Remove an element in the array\n",
        "animals = [\"monkey\", \"cat\", \"dog\", \"fish\"]\n",
        "animals.pop(1)\n",
        "print(animals)"
      ],
      "metadata": {
        "colab": {
          "base_uri": "https://localhost:8080/"
        },
        "id": "JIKD93TJzWkw",
        "outputId": "2c7217a3-d5f6-4d17-8da6-ba9025c885a7"
      },
      "execution_count": 26,
      "outputs": [
        {
          "output_type": "stream",
          "name": "stdout",
          "text": [
            "['monkey', 'dog', 'fish']\n"
          ]
        }
      ]
    },
    {
      "cell_type": "code",
      "source": [
        "#Inserting an animal in a specific location using insert()\n",
        "animals = [\"monkey\", \"cat\", \"dog\", \"fish\"]\n",
        "animals.insert(0, \"bird\")\n",
        "print(animals)"
      ],
      "metadata": {
        "colab": {
          "base_uri": "https://localhost:8080/"
        },
        "id": "EIqFbhIJ0mo2",
        "outputId": "c1fde785-feeb-40fb-8111-865a0ee90279"
      },
      "execution_count": 46,
      "outputs": [
        {
          "output_type": "stream",
          "name": "stdout",
          "text": [
            "['bird', 'monkey', 'cat', 'dog', 'fish']\n"
          ]
        }
      ]
    },
    {
      "cell_type": "code",
      "source": [
        "#Remove an animal in the specified index value using remove()\n",
        "animals = [\"monkey\", \"cat\", \"dog\", \"fish\"]\n",
        "animals.remove(\"monkey\")\n",
        "print(animals)"
      ],
      "metadata": {
        "colab": {
          "base_uri": "https://localhost:8080/"
        },
        "id": "kV98ytT41V6K",
        "outputId": "27bf3de0-98cd-4423-c735-f4a052503f24"
      },
      "execution_count": 61,
      "outputs": [
        {
          "output_type": "stream",
          "name": "stdout",
          "text": [
            "['cat', 'dog', 'fish']\n"
          ]
        }
      ]
    },
    {
      "cell_type": "code",
      "source": [
        "#Reverse all animals in the list using reverse()\n",
        "animals = [\"monkey\", \"cat\", \"dog\", \"fish\"]\n",
        "animals.reverse()\n",
        "print(animals)"
      ],
      "metadata": {
        "colab": {
          "base_uri": "https://localhost:8080/"
        },
        "id": "urf7wWzO1eMy",
        "outputId": "7d74b6a6-f7c5-4d59-8858-f51b475d8bfe"
      },
      "execution_count": 49,
      "outputs": [
        {
          "output_type": "stream",
          "name": "stdout",
          "text": [
            "['fish', 'dog', 'cat', 'monkey']\n"
          ]
        }
      ]
    }
  ]
}