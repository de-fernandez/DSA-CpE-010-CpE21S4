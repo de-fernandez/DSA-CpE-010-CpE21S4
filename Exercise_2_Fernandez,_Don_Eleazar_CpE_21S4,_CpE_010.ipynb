{
  "nbformat": 4,
  "nbformat_minor": 0,
  "metadata": {
    "colab": {
      "provenance": [],
      "authorship_tag": "ABX9TyM8qz141Vwlz41LPi/kBe48",
      "include_colab_link": true
    },
    "kernelspec": {
      "name": "python3",
      "display_name": "Python 3"
    },
    "language_info": {
      "name": "python"
    }
  },
  "cells": [
    {
      "cell_type": "markdown",
      "metadata": {
        "id": "view-in-github",
        "colab_type": "text"
      },
      "source": [
        "<a href=\"https://colab.research.google.com/github/de-fernandez/DSA-CpE-010-CpE21S4/blob/main/Exercise_2_Fernandez%2C_Don_Eleazar_CpE_21S4%2C_CpE_010.ipynb\" target=\"_parent\"><img src=\"https://colab.research.google.com/assets/colab-badge.svg\" alt=\"Open In Colab\"/></a>"
      ]
    },
    {
      "cell_type": "code",
      "execution_count": 21,
      "metadata": {
        "colab": {
          "base_uri": "https://localhost:8080/"
        },
        "id": "0Av8VDRx5Dqj",
        "outputId": "8c063dc7-7dff-4c07-87ed-11b9e83fd3fb"
      },
      "outputs": [
        {
          "output_type": "stream",
          "name": "stdout",
          "text": [
            "The area of rectangle is 10\n",
            "The area of square is 64\n",
            "The area of triangle is 30.0\n"
          ]
        }
      ],
      "source": [
        "class Shapes():\n",
        "\n",
        "  def __init__(self, length, width, sides, base, height):\n",
        "    self.length = length\n",
        "    self.width = width\n",
        "    self.sides = sides\n",
        "    self.base = base\n",
        "    self.height = height\n",
        "\n",
        "  class Rectangle(Shapes):\n",
        "    def Area_Rectangle(self):\n",
        "      area = self.length * self.width\n",
        "      return area\n",
        "\n",
        "  class Square(Shapes):\n",
        "    def Area_Square(self):\n",
        "      area = (self.sides) ** 2\n",
        "      return area\n",
        "\n",
        "  class Triangle(Shapes):\n",
        "    def Area_Triangle(self):\n",
        "      area = (1/2) * self.base * self.height\n",
        "      return area\n",
        "\n",
        "rectangle = Shapes.Rectangle(5, 2, 0, 0, 0)\n",
        "square = Shapes.Square(0, 0, 8, 0, 0)\n",
        "triangle = Shapes.Triangle(0, 0, 0, 10, 6)\n",
        "\n",
        "print(\"The area of rectangle is\", rectangle.Area_Rectangle())\n",
        "print(\"The area of square is\", square.Area_Square())\n",
        "print(\"The area of triangle is\", triangle.Area_Triangle())"
      ]
    }
  ]
}